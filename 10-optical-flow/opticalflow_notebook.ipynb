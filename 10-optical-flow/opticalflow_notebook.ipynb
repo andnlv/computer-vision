{
 "cells": [
  {
   "cell_type": "markdown",
   "metadata": {},
   "source": [
    "# Практическое задание: Визуализация и применение оптического потока\n",
    "В данном задании Вы попрактикуетесь в применении методов вычисления оптического потока и его визуализации."
   ]
  },
  {
   "cell_type": "markdown",
   "metadata": {},
   "source": [
    "## Часть 0: Подготовка\n",
    "Для работы с методами оптического потока и удобной визузализации нам будут необходимы следующие библиотеки:\n",
    "- opencv\n",
    "- pyflow (https://github.com/pathak22/pyflow)\n",
    "- imageio\n",
    "- matplotlib\n",
    "- scikit-image\n",
    "- PIL\n",
    "\n",
    "Убедитесь, что они у вас установлены."
   ]
  },
  {
   "cell_type": "code",
   "execution_count": 20,
   "metadata": {
    "scrolled": false
   },
   "outputs": [
    {
     "ename": "FileNotFoundError",
     "evalue": "[Errno 2] No such file or directory: '/usr/local/lib/python3.5/dist-packages/setuptools-18.1-py3.5.egg'",
     "output_type": "error",
     "traceback": [
      "\u001b[0;31m---------------------------------------------------------------------------\u001b[0m",
      "\u001b[0;31mFileNotFoundError\u001b[0m                         Traceback (most recent call last)",
      "\u001b[0;32m<ipython-input-20-bd75a9340db2>\u001b[0m in \u001b[0;36m<module>\u001b[0;34m()\u001b[0m\n\u001b[1;32m      6\u001b[0m \u001b[0;32mimport\u001b[0m \u001b[0mmatplotlib\u001b[0m\u001b[0;34m.\u001b[0m\u001b[0mpyplot\u001b[0m \u001b[0;32mas\u001b[0m \u001b[0mplt\u001b[0m\u001b[0;34m\u001b[0m\u001b[0m\n\u001b[1;32m      7\u001b[0m \u001b[0;32mfrom\u001b[0m \u001b[0mmath\u001b[0m \u001b[0;32mimport\u001b[0m \u001b[0mgcd\u001b[0m\u001b[0;34m\u001b[0m\u001b[0m\n\u001b[0;32m----> 8\u001b[0;31m \u001b[0;32mimport\u001b[0m \u001b[0mimageio\u001b[0m\u001b[0;34m\u001b[0m\u001b[0m\n\u001b[0m\u001b[1;32m      9\u001b[0m \u001b[0;32mfrom\u001b[0m \u001b[0mPIL\u001b[0m \u001b[0;32mimport\u001b[0m \u001b[0mImage\u001b[0m\u001b[0;34m,\u001b[0m \u001b[0mImageSequence\u001b[0m\u001b[0;34m\u001b[0m\u001b[0m\n\u001b[1;32m     10\u001b[0m \u001b[0;32mimport\u001b[0m \u001b[0mwarnings\u001b[0m\u001b[0;34m\u001b[0m\u001b[0m\n",
      "\u001b[0;32m/usr/local/lib/python3.5/dist-packages/imageio/__init__.py\u001b[0m in \u001b[0;36m<module>\u001b[0;34m()\u001b[0m\n\u001b[1;32m     20\u001b[0m \u001b[0;34m\u001b[0m\u001b[0m\n\u001b[1;32m     21\u001b[0m \u001b[0;31m# Load some bits from core\u001b[0m\u001b[0;34m\u001b[0m\u001b[0;34m\u001b[0m\u001b[0m\n\u001b[0;32m---> 22\u001b[0;31m \u001b[0;32mfrom\u001b[0m \u001b[0;34m.\u001b[0m\u001b[0mcore\u001b[0m \u001b[0;32mimport\u001b[0m \u001b[0mFormatManager\u001b[0m\u001b[0;34m,\u001b[0m \u001b[0mRETURN_BYTES\u001b[0m\u001b[0;34m\u001b[0m\u001b[0m\n\u001b[0m\u001b[1;32m     23\u001b[0m \u001b[0;34m\u001b[0m\u001b[0m\n\u001b[1;32m     24\u001b[0m \u001b[0;31m# Instantiate format manager\u001b[0m\u001b[0;34m\u001b[0m\u001b[0;34m\u001b[0m\u001b[0m\n",
      "\u001b[0;32m/usr/local/lib/python3.5/dist-packages/imageio/core/__init__.py\u001b[0m in \u001b[0;36m<module>\u001b[0;34m()\u001b[0m\n\u001b[1;32m      8\u001b[0m \u001b[0;31m# flake8: noqa\u001b[0m\u001b[0;34m\u001b[0m\u001b[0;34m\u001b[0m\u001b[0m\n\u001b[1;32m      9\u001b[0m \u001b[0;34m\u001b[0m\u001b[0m\n\u001b[0;32m---> 10\u001b[0;31m \u001b[0;32mfrom\u001b[0m \u001b[0;34m.\u001b[0m\u001b[0mutil\u001b[0m \u001b[0;32mimport\u001b[0m \u001b[0mImage\u001b[0m\u001b[0;34m,\u001b[0m \u001b[0mArray\u001b[0m\u001b[0;34m,\u001b[0m \u001b[0mDict\u001b[0m\u001b[0;34m,\u001b[0m \u001b[0masarray\u001b[0m\u001b[0;34m,\u001b[0m \u001b[0mimage_as_uint\u001b[0m\u001b[0;34m,\u001b[0m \u001b[0murlopen\u001b[0m\u001b[0;34m\u001b[0m\u001b[0m\n\u001b[0m\u001b[1;32m     11\u001b[0m \u001b[0;32mfrom\u001b[0m \u001b[0;34m.\u001b[0m\u001b[0mutil\u001b[0m \u001b[0;32mimport\u001b[0m \u001b[0mBaseProgressIndicator\u001b[0m\u001b[0;34m,\u001b[0m \u001b[0mStdoutProgressIndicator\u001b[0m\u001b[0;34m\u001b[0m\u001b[0m\n\u001b[1;32m     12\u001b[0m \u001b[0;32mfrom\u001b[0m \u001b[0;34m.\u001b[0m\u001b[0mutil\u001b[0m \u001b[0;32mimport\u001b[0m \u001b[0mstring_types\u001b[0m\u001b[0;34m,\u001b[0m \u001b[0mtext_type\u001b[0m\u001b[0;34m,\u001b[0m \u001b[0mbinary_type\u001b[0m\u001b[0;34m,\u001b[0m \u001b[0mIS_PYPY\u001b[0m\u001b[0;34m\u001b[0m\u001b[0m\n",
      "\u001b[0;32m/usr/local/lib/python3.5/dist-packages/imageio/core/util.py\u001b[0m in \u001b[0;36m<module>\u001b[0;34m()\u001b[0m\n\u001b[1;32m     18\u001b[0m \u001b[0;31m# Make pkg_resources optional if setuptools is not available\u001b[0m\u001b[0;34m\u001b[0m\u001b[0;34m\u001b[0m\u001b[0m\n\u001b[1;32m     19\u001b[0m \u001b[0;32mtry\u001b[0m\u001b[0;34m:\u001b[0m\u001b[0;34m\u001b[0m\u001b[0m\n\u001b[0;32m---> 20\u001b[0;31m     \u001b[0;32mimport\u001b[0m \u001b[0mpkg_resources\u001b[0m\u001b[0;34m\u001b[0m\u001b[0m\n\u001b[0m\u001b[1;32m     21\u001b[0m \u001b[0;32mexcept\u001b[0m \u001b[0mImportError\u001b[0m\u001b[0;34m:\u001b[0m\u001b[0;34m\u001b[0m\u001b[0m\n\u001b[1;32m     22\u001b[0m     \u001b[0mpkg_resources\u001b[0m \u001b[0;34m=\u001b[0m \u001b[0;32mNone\u001b[0m\u001b[0;34m\u001b[0m\u001b[0m\n",
      "\u001b[0;32m/usr/lib/python3.5/importlib/_bootstrap.py\u001b[0m in \u001b[0;36m_find_and_load\u001b[0;34m(name, import_)\u001b[0m\n",
      "\u001b[0;32m/usr/lib/python3.5/importlib/_bootstrap.py\u001b[0m in \u001b[0;36m_find_and_load_unlocked\u001b[0;34m(name, import_)\u001b[0m\n",
      "\u001b[0;32m/usr/lib/python3.5/importlib/_bootstrap.py\u001b[0m in \u001b[0;36m_find_spec\u001b[0;34m(name, path, target)\u001b[0m\n",
      "\u001b[0;32m/usr/lib/python3.5/importlib/_bootstrap_external.py\u001b[0m in \u001b[0;36mfind_spec\u001b[0;34m(cls, fullname, path, target)\u001b[0m\n",
      "\u001b[0;32m/usr/lib/python3.5/importlib/_bootstrap_external.py\u001b[0m in \u001b[0;36m_get_spec\u001b[0;34m(cls, fullname, path, target)\u001b[0m\n",
      "\u001b[0;32m/usr/lib/python3.5/importlib/_bootstrap_external.py\u001b[0m in \u001b[0;36m_legacy_get_spec\u001b[0;34m(cls, fullname, finder)\u001b[0m\n",
      "\u001b[0;32m/usr/lib/python3.5/importlib/_bootstrap.py\u001b[0m in \u001b[0;36mspec_from_loader\u001b[0;34m(name, loader, origin, is_package)\u001b[0m\n",
      "\u001b[0;32m/usr/lib/python3.5/importlib/_bootstrap_external.py\u001b[0m in \u001b[0;36mspec_from_file_location\u001b[0;34m(name, location, loader, submodule_search_locations)\u001b[0m\n",
      "\u001b[0;31mFileNotFoundError\u001b[0m: [Errno 2] No such file or directory: '/usr/local/lib/python3.5/dist-packages/setuptools-18.1-py3.5.egg'"
     ]
    }
   ],
   "source": [
    "import numpy as np\n",
    "from skimage.io import imread, imshow, imsave\n",
    "import IPython\n",
    "import cv2\n",
    "from pyflow import pyflow\n",
    "import matplotlib.pyplot as plt\n",
    "from math import gcd\n",
    "import imageio\n",
    "from PIL import Image, ImageSequence\n",
    "import warnings\n",
    "\n",
    "\n",
    "def gifread(gifname):\n",
    "    im = Image.open(gifname)\n",
    "    duration = im.info['duration']/1000.\n",
    "    frames = [(np.array(frame.copy().convert('RGB'))/255.).astype(np.float64).copy()\n",
    "              for frame in ImageSequence.Iterator(im)]\n",
    "    return frames, duration\n",
    "\n",
    "\n",
    "def gifshow(gifname):\n",
    "    with open(gifname, 'rb') as f:\n",
    "        display(IPython.display.Image(data=f.read(), format='png'))\n",
    "\n",
    "\n",
    "def gifsave(gifname, images, duration=2):\n",
    "    images = [imageio.core.util.Image(img) for img in images]\n",
    "    with warnings.catch_warnings():\n",
    "        warnings.simplefilter(\"ignore\")\n",
    "        imageio.mimsave(gifname, images, duration=duration)\n",
    "\n",
    "\n",
    "def seqmerge(imgs1, imgs2, mode='horizontal'):\n",
    "    len_gcd = gcd(len(imgs1), len(imgs2))\n",
    "    imgs1_repeat = len(imgs2)//len_gcd\n",
    "    imgs2_repeat = len(imgs1)//len_gcd\n",
    "    imgs1 = np.repeat(imgs1, imgs1_repeat, axis=0)\n",
    "    imgs2 = np.repeat(imgs2, imgs2_repeat, axis=0)\n",
    "    imgs = np.concatenate(\n",
    "        (imgs1, imgs2), axis=2 if mode.startswith('hor') else 1)\n",
    "    return imgs"
   ]
  },
  {
   "cell_type": "code",
   "execution_count": 14,
   "metadata": {},
   "outputs": [
    {
     "name": "stdout",
     "output_type": "stream",
     "text": [
      "Collecting imageio\n",
      "\u001b[?25l  Downloading https://files.pythonhosted.org/packages/28/b4/cbb592964dfd71a9de6a5b08f882fd334fb99ae09ddc82081dbb2f718c81/imageio-2.4.1.tar.gz (3.3MB)\n",
      "\u001b[K    100% |████████████████████████████████| 3.3MB 1.2MB/s ta 0:00:011\n",
      "\u001b[?25hRequirement already satisfied: numpy in /usr/local/lib/python3.5/dist-packages (from imageio) (1.14.2)\n",
      "Requirement already satisfied: pillow in /usr/local/lib/python3.5/dist-packages (from imageio) (5.3.0)\n",
      "Building wheels for collected packages: imageio\n",
      "  Running setup.py bdist_wheel for imageio ... \u001b[?25ldone\n",
      "\u001b[?25h  Stored in directory: /home/andrey/.cache/pip/wheels/e0/43/31/605de9372ceaf657f152d3d5e82f42cf265d81db8bbe63cde1\n",
      "Successfully built imageio\n",
      "Installing collected packages: imageio\n",
      "\u001b[31mCould not install packages due to an EnvironmentError: [Errno 13] Permission denied: '/usr/local/lib/python3.5/dist-packages/imageio-2.4.1.dist-info'\n",
      "Consider using the `--user` option or check the permissions.\n",
      "\u001b[0m\n"
     ]
    }
   ],
   "source": []
  },
  {
   "cell_type": "code",
   "execution_count": 6,
   "metadata": {},
   "outputs": [
    {
     "name": "stdout",
     "output_type": "stream",
     "text": [
      "Collecting ez_setup\n",
      "  Downloading https://files.pythonhosted.org/packages/ba/2c/743df41bd6b3298706dfe91b0c7ecdc47f2dc1a3104abeb6e9aa4a45fa5d/ez_setup-0.9.tar.gz\n",
      "Building wheels for collected packages: ez-setup\n",
      "  Running setup.py bdist_wheel for ez-setup ... \u001b[?25ldone\n",
      "\u001b[?25h  Stored in directory: /home/andrey/.cache/pip/wheels/dc/e8/6b/3d5ff5a3efd7b5338d1e173ac981771e2628ceb2f7866d49ad\n",
      "Successfully built ez-setup\n",
      "Installing collected packages: ez-setup\n",
      "\u001b[31mCould not install packages due to an EnvironmentError: [Errno 13] Permission denied: '/usr/local/lib/python3.5/dist-packages/distribute_setup.py'\n",
      "Consider using the `--user` option or check the permissions.\n",
      "\u001b[0m\n",
      "\u001b[33mYou are using pip version 18.0, however version 18.1 is available.\n",
      "You should consider upgrading via the 'pip install --upgrade pip' command.\u001b[0m\n"
     ]
    }
   ],
   "source": []
  },
  {
   "cell_type": "markdown",
   "metadata": {},
   "source": [
    "Визуализировать результат будет удобно в виде GIF-анимаций, для чего вы можете использовать функции `gifread`, `gifsave`, `gifshow` и `seqmerge`, пример использования ниже."
   ]
  },
  {
   "cell_type": "code",
   "execution_count": null,
   "metadata": {},
   "outputs": [],
   "source": [
    "frames, duration = gifread('data/cat.gif')\n",
    "flipped_frames = [f[::-1, ...] for f in frames[::-1]]\n",
    "res_frames = seqmerge(frames, flipped_frames, mode='vertical')\n",
    "gifsave('double_cat.gif', res_frames, duration=duration)\n",
    "gifshow('double_cat.gif')"
   ]
  },
  {
   "cell_type": "markdown",
   "metadata": {},
   "source": [
    "## Часть 1: Что такое оптический поток\n",
    "\n",
    "Оптический поток – это мера видимого движения объектов на видеопоследовательности относительно плоскости изображения. На практике оптический поток разделяется на 2 типа: __плотный__ (dense) и __разреженный__ (sparse). С помощью плотного оптического потока производится оценка смещения каждого пикселя изображения, в том время как с помощью разреженного оценивают только некоторые, заранее определенные точки, что значительно экономит ресурсы по сравнению с первым методом."
   ]
  },
  {
   "cell_type": "markdown",
   "metadata": {},
   "source": [
    "## Часть 2: Плотный оптический поток и его визуализация\n",
    "<img src=\"imgs/dof.jpg\" width=350 align=\"right\">\n",
    "Для расчета плотного оптического потока применим быстрый метод расчета по пирамиде изображений (https://people.csail.mit.edu/celiu/OpticalFlow/). Для визуализации полученного оптического потока можно применить следующий метод: направлению вектора будет соответствовать Hue в цветовой модели HSV, а абсолютному значению – Value\n",
    "\n",
    "__Задание 1.__ Сделайте визуализацию оптического потока по HSV. Подберите оптимальные параметры для вычисления оптического потока между двумя кадрами в коде ниже."
   ]
  },
  {
   "cell_type": "code",
   "execution_count": null,
   "metadata": {},
   "outputs": [],
   "source": [
    "im1 = np.array(Image.open('data/car1.jpg'))\n",
    "im2 = np.array(Image.open('data/car2.jpg'))\n",
    "im1 = im1.astype(float) / 255.\n",
    "im2 = im2.astype(float) / 255.\n",
    "\n",
    "# Parameters to tune\n",
    "alpha = 0.012\n",
    "ratio = 0.75\n",
    "minWidth = 20\n",
    "nOuterFPIterations = 7\n",
    "nInnerFPIterations = 1\n",
    "nSORIterations = 30\n",
    "colType = 0\n",
    "\n",
    "u, v, im2W = pyflow.coarse2fine_flow(\n",
    "    im1, im2, alpha, ratio, minWidth, nOuterFPIterations, nInnerFPIterations,\n",
    "    nSORIterations, colType)\n",
    "flow = np.concatenate((u[..., None], v[..., None]), axis=2)\n",
    "\n",
    "# Your code here\n",
    "\n",
    "imshow(rgb)"
   ]
  },
  {
   "cell_type": "markdown",
   "metadata": {},
   "source": [
    "Плотный оптический поток имеет несколько применений. Одно из них – интерполирование видеопоследовательностей для увеличения частоты кадров и плавности движения. С помощью вычисленного на предыдущем шаге потоке попробуйте сгенерировать кадр между двумя настоящими.\n",
    "\n",
    "__Задание 2.__ Реализуйте функцию `warp_flow`, выполняющую интерполяцию кадров по потоку и первому изображению. *Подсказка:* Используйте функцию `cv2.remap`, для неё пиксели должны быть в формате `np.float32`. Не забудьте в конце привести значения пикселей к [0,1]."
   ]
  },
  {
   "cell_type": "code",
   "execution_count": null,
   "metadata": {},
   "outputs": [],
   "source": [
    "def warp_flow(img, flow):\n",
    "    # Your code here"
   ]
  },
  {
   "cell_type": "code",
   "execution_count": null,
   "metadata": {},
   "outputs": [],
   "source": [
    "im3 = warp_flow(im1, flow.astype(np.float32).copy())\n",
    "seq = seqmerge([im1, im1, im2], [im1, im3, im2])\n",
    "gifsave('warped.gif', seq, duration=1.5)\n",
    "gifshow('warped.gif')"
   ]
  },
  {
   "cell_type": "markdown",
   "metadata": {},
   "source": [
    "Попробуем применить данный метод для видео. Заметно ли увеличение плавности?\n",
    "\n",
    "__Задание 3.__ Реализуйте функцию `interp_frames`, вычисляющую плотный оптический поток между соседними кадрами и интерполирующую кадр между ними. Примените функцию к gifs/traffic.gif и визуализируйте результат в виде анимации, сравните с оригиналом. *Подсказка:* Не забудьте уменьшить параметр `duration` для итоговой анимации в 2 раза."
   ]
  },
  {
   "cell_type": "code",
   "execution_count": null,
   "metadata": {},
   "outputs": [],
   "source": [
    "def interp_frames(frames):\n",
    "    # Your code here"
   ]
  },
  {
   "cell_type": "code",
   "execution_count": null,
   "metadata": {},
   "outputs": [],
   "source": [
    "# Visualise here"
   ]
  },
  {
   "cell_type": "markdown",
   "metadata": {},
   "source": [
    "## Часть 3. Разреженный оптический поток\n",
    "<img src=\"imgs/opticalflow_lk.jpg\" width=350 align=\"right\">\n",
    "\n",
    "Методы разреженного оптического потока чаще всего работают медленней, чем плотного, из расчета на одну отслеживаемую точку, однако отличаются большей надежностью отслеживания необходимых точек и потому применяются в задачах трекинга объектов.\n",
    "\n",
    "Попробуем рассчитать поток по методу Лукаса-Канаде (https://en.wikipedia.org/wiki/Lucas–Kanade_method). Для этого сначала необходимо задать интересующие нас точки, найдем их с помощью `cv2.goodFeaturesToTrack`. Затем применим метод к каждой паре соседних кадров и получим на выходе положения интересующих точек на каждом кадре последовательности.\n",
    "\n",
    "__Задание 4.__ Напишите функцию визуализации треков получаемых точек `sparseflow_visualise`. На каждом кадре функция должна продолжать линии разных цветов согласно точкам, чтобы получилось изображение, похожее на пример справа. Примените функцию вычисления разреженного оптического потока `compute_sparse_flow` к gifs/traffic.gif. Визуализируйте результат в виде анимации. Подберите оптимальные параметры для предотвращения потери ключевых точек."
   ]
  },
  {
   "cell_type": "code",
   "execution_count": null,
   "metadata": {},
   "outputs": [],
   "source": [
    "def compute_sparse_flow(images):\n",
    "    def to_uint8(images):\n",
    "        if images[0].dtype != np.uint8:\n",
    "            images = [(img*255).astype(np.uint8).copy() for img in images]\n",
    "        return images\n",
    "    res = []\n",
    "    images = to_uint8(images)\n",
    "    # params for ShiTomasi corner detection\n",
    "    feature_params = dict(maxCorners=30,\n",
    "                          qualityLevel=0.4,\n",
    "                          minDistance=7,\n",
    "                          blockSize=7)\n",
    "    # Parameters for Lucas-Kanade optical flow\n",
    "    lk_params = dict(winSize=(7, 5),\n",
    "                     maxLevel=40,\n",
    "                     criteria=(cv2.TERM_CRITERIA_EPS | cv2.TERM_CRITERIA_COUNT, 40, 0.1))\n",
    "\n",
    "    prev_gray = cv2.cvtColor(images[0], cv2.COLOR_RGB2GRAY)\n",
    "    prev_features = cv2.goodFeaturesToTrack(\n",
    "        prev_gray, mask=None, **feature_params).reshape(-1, 2)\n",
    "    res.append(prev_features)\n",
    "    features_len = len(prev_features)\n",
    "    feature_mask = np.ones(features_len, dtype=np.bool)\n",
    "    for image in images[1:]:\n",
    "        curr_gray = cv2.cvtColor(image, cv2.COLOR_RGB2GRAY)\n",
    "        curr_features, curr_feature_mask, err = cv2.calcOpticalFlowPyrLK(prev_gray, curr_gray,\n",
    "                                          prev_features.reshape(-1, 1, 2).copy(), None, **lk_params)\n",
    "        curr_feature_mask = curr_feature_mask.flatten()\n",
    "        prev_features = curr_features[curr_feature_mask == 1, ...].reshape(-1, 2).copy()\n",
    "        feature_mask[feature_mask] = (curr_feature_mask == 1)\n",
    "        features_to_add = np.ones((features_len, 2)) * np.inf\n",
    "        features_to_add[feature_mask, :] = prev_features\n",
    "        res.append(features_to_add)\n",
    "\n",
    "    return res"
   ]
  },
  {
   "cell_type": "code",
   "execution_count": null,
   "metadata": {},
   "outputs": [],
   "source": [
    "def sparseflow_visualise(images, points):\n",
    "    # Your code here"
   ]
  },
  {
   "cell_type": "code",
   "execution_count": null,
   "metadata": {},
   "outputs": [],
   "source": [
    "# Visualise here"
   ]
  },
  {
   "cell_type": "markdown",
   "metadata": {},
   "source": [
    "Вы можете заметить, как трекинг практически всегда срывается при значительном изменении окружения точки (в данном случае, изменение освещения корпусов машин, когда они выезжают на солнце). Можно сделать вывод, что для качественного вычисления оптического потока необходимо более глубокое понимание сцены, чем простое сравнение областей, именно поэтому в данный момент наиболее перспективными методами решения данной задачи являются методы с применением нейросетей. Один из самых известных примеров – FlowNet, подробней о котором можно прочесть здесь: https://www.cv-foundation.org/openaccess/content_iccv_2015/papers/Dosovitskiy_FlowNet_Learning_Optical_ICCV_2015_paper.pdf"
   ]
  }
 ],
 "metadata": {
  "kernelspec": {
   "display_name": "Python 3",
   "language": "python",
   "name": "python3"
  },
  "language_info": {
   "codemirror_mode": {
    "name": "ipython",
    "version": 3
   },
   "file_extension": ".py",
   "mimetype": "text/x-python",
   "name": "python",
   "nbconvert_exporter": "python",
   "pygments_lexer": "ipython3",
   "version": "3.5.2"
  }
 },
 "nbformat": 4,
 "nbformat_minor": 2
}
