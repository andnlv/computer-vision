{
 "cells": [
  {
   "cell_type": "code",
   "execution_count": 133,
   "metadata": {},
   "outputs": [],
   "source": [
    "import os\n",
    "\n",
    "import numpy as np\n",
    "import skimage.io as io\n",
    "import matplotlib.pyplot as plt\n",
    "\n",
    "from skimage.filters import sobel_h, sobel_v\n",
    "from skimage.transform import resize\n",
    "\n",
    "from sklearn.svm import LinearSVC\n",
    "from itertools import product\n",
    "\n",
    "%matplotlib inline"
   ]
  },
  {
   "cell_type": "code",
   "execution_count": null,
   "metadata": {},
   "outputs": [],
   "source": [
    "def fit_and_classify(X_train, y_train, X_test):\n",
    "    model = LinearSVC()\n",
    "    model.fit(X_train, y_train)\n",
    "    return model.predict(X_test)"
   ]
  },
  {
   "cell_type": "code",
   "execution_count": 131,
   "metadata": {},
   "outputs": [],
   "source": [
    "\n",
    "def get_grads(img):\n",
    "    weights = np.array([0.299, 0.587, 0.114])\n",
    "    brightness = img @ weights\n",
    "    grad_y = sobel_h(brightness)\n",
    "    grad_x = sobel_v(brightness)\n",
    "    return np.sqrt(grad_y ** 2 + grad_x ** 2), np.arctan2(grad_y, grad_x)\n",
    "\n",
    "\n",
    "def make_hist(grad_norms, grad_angles, bins):\n",
    "    limits = np.linspace(-np.pi, np.pi, bins + 1).reshape(bins + 1, 1, 1) + np.pi / bins\n",
    "    return np.sum(((grad_angles >= limits[:-1]) & (grad_angles < limits[1:])) * grad_norms, axis=(1, 2))\n",
    "\n",
    "\n",
    "def build_cells(grad_norms, grad_angles, cell_shape=(8, 8), bins=8):\n",
    "    hists = np.empty([*np.array(grad_norms.shape) // cell_shape, bins])\n",
    "    cell_slice = lambda i, ax: slice(cell_shape[ax] * i, cell_shape[ax] * (i + 1))\n",
    "    for i, j in product(range(hists.shape[0]), range(hists.shape[1])):\n",
    "        hists[i, j] = make_hist(\n",
    "            grad_norms[cell_slice(i, 0), cell_slice(j, 1)], \n",
    "            grad_angles[cell_slice(i, 0), cell_slice(j, 1)],\n",
    "            bins,\n",
    "        )\n",
    "    return hists\n",
    "\n",
    "\n",
    "def build_blocks(cells, block_shape=(4, 4), step=None):\n",
    "    if step is None:\n",
    "        step = block_shape\n",
    "    result_shape = (np.array(cells.shape[:2]) - block_shape) // step + 1\n",
    "    result = np.empty([*result_shape, np.prod(block_shape) * cells.shape[-1]])\n",
    "    for i, j in product(range(result.shape[0]), range(result.shape[1])):\n",
    "        result[i, j] = cells[\n",
    "            i * step[0]: i * step[0] + block_shape[0], \n",
    "            j * step[1]: j * step[1] + block_shape[0]\n",
    "        ].reshape(-1)\n",
    "        result[i, j] /= np.sqrt((result[i, j] ** 2).sum() + 1e-5)\n",
    "    return result.reshape(-1)\n",
    "\n",
    "\n",
    "def extract_hog(image):\n",
    "    image = resize(image, (64, 64))\n",
    "    grad_norms, grad_angles = get_grads(image)\n",
    "    cells = build_cells(grad_norms, grad_angles)\n",
    "    return build_blocks(cells)"
   ]
  },
  {
   "cell_type": "code",
   "execution_count": null,
   "metadata": {},
   "outputs": [],
   "source": []
  }
 ],
 "metadata": {
  "kernelspec": {
   "display_name": "Python 3",
   "language": "python",
   "name": "python3"
  },
  "language_info": {
   "codemirror_mode": {
    "name": "ipython",
    "version": 3
   },
   "file_extension": ".py",
   "mimetype": "text/x-python",
   "name": "python",
   "nbconvert_exporter": "python",
   "pygments_lexer": "ipython3",
   "version": "3.6.7"
  }
 },
 "nbformat": 4,
 "nbformat_minor": 2
}
