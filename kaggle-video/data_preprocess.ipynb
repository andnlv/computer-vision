{
 "cells": [
  {
   "cell_type": "code",
   "execution_count": 322,
   "metadata": {},
   "outputs": [],
   "source": [
    "import os\n",
    "import numpy as np\n",
    "import pandas as pd\n",
    "import cv2\n",
    "import skimage.io as sio\n",
    "import matplotlib.pyplot as plt\n",
    "from tqdm import tqdm_notebook\n",
    "%matplotlib inline"
   ]
  },
  {
   "cell_type": "code",
   "execution_count": 326,
   "metadata": {},
   "outputs": [],
   "source": [
    "targets = pd.read_csv('data/train_gt.csv', index_col='filename')\n",
    "train_path = 'data/action-recognition-train/'\n",
    "test_path = 'data/action-recognition-test/'\n",
    "train_dir = 'data/train/'\n",
    "test_dir = 'data/test/'"
   ]
  },
  {
   "cell_type": "code",
   "execution_count": 391,
   "metadata": {},
   "outputs": [],
   "source": [
    "def save_frames(filename, old_dir, new_dir):\n",
    "    video = cv2.VideoCapture(os.path.join(old_dir, filename))\n",
    "    video.set(cv2.CAP_PROP_CONVERT_RGB, 1)\n",
    "    duration = int(video.get(cv2.CAP_PROP_FRAME_COUNT))\n",
    "    frame_ids = np.round(np.linspace(0, duration, 10))[1: -1]\n",
    "    os.makedirs(os.path.join(new_dir, filename[:4]), exist_ok=True)\n",
    "    for i, frame_id in enumerate(frame_ids):\n",
    "        video.set(cv2.CAP_PROP_POS_FRAMES, frame_id)\n",
    "        _, frame = video.read()\n",
    "        plt.imsave(os.path.join(new_dir, filename[:4], str(i)), cv2.cvtColor(frame, cv2.COLOR_RGBA2BGR))\n",
    "        \n",
    "\n",
    "def save_frames_train(filename):\n",
    "    save_frames(filename, train_path, train_dir)\n",
    "\n",
    "    \n",
    "def save_frames_test(filename):\n",
    "    save_frames(filename, test_path, test_dir)"
   ]
  },
  {
   "cell_type": "code",
   "execution_count": 392,
   "metadata": {},
   "outputs": [
    {
     "data": {
      "application/vnd.jupyter.widget-view+json": {
       "model_id": "23e6df99e96f47c09d10b038e55704e5",
       "version_major": 2,
       "version_minor": 0
      },
      "text/plain": [
       "HBox(children=(IntProgress(value=0, max=9463), HTML(value='')))"
      ]
     },
     "metadata": {},
     "output_type": "display_data"
    },
    {
     "data": {
      "application/vnd.jupyter.widget-view+json": {
       "model_id": "de09b0ed4af44753ac570e1c08f3bb6e",
       "version_major": 2,
       "version_minor": 0
      },
      "text/plain": [
       "HBox(children=(IntProgress(value=0, max=3729), HTML(value='')))"
      ]
     },
     "metadata": {},
     "output_type": "display_data"
    }
   ],
   "source": [
    "from multiprocessing import Pool\n",
    "\n",
    "with Pool(processes=4) as pool:\n",
    "    [*tqdm_notebook(\n",
    "        pool.imap(func=save_frames_train, iterable=os.listdir(train_path)), \n",
    "        total=len([*os.listdir(train_path)])\n",
    "    )]\n",
    "    [*tqdm_notebook(\n",
    "        pool.imap(func=save_frames_test, iterable=os.listdir(test_path)), \n",
    "        total=len([*os.listdir(test_path)])\n",
    "    )]"
   ]
  },
  {
   "cell_type": "code",
   "execution_count": null,
   "metadata": {},
   "outputs": [],
   "source": []
  }
 ],
 "metadata": {
  "kernelspec": {
   "display_name": "Python 3",
   "language": "python",
   "name": "python3"
  },
  "language_info": {
   "codemirror_mode": {
    "name": "ipython",
    "version": 3
   },
   "file_extension": ".py",
   "mimetype": "text/x-python",
   "name": "python",
   "nbconvert_exporter": "python",
   "pygments_lexer": "ipython3",
   "version": "3.5.2"
  }
 },
 "nbformat": 4,
 "nbformat_minor": 2
}
